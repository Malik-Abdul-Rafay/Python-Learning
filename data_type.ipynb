{
 "cells": [
  {
   "cell_type": "code",
   "execution_count": null,
   "id": "6141d176",
   "metadata": {},
   "outputs": [
    {
     "name": "stdout",
     "output_type": "stream",
     "text": [
      "39.7\n"
     ]
    }
   ],
   "source": [
    "num1 = 42\n",
    "num2 = -2.3\n",
    "num3 = 'tryr'\n",
    "\n",
    "# print('num1' ,type(num1))\n",
    "# print('num2' ,type(num2))\n",
    "# print('num3' ,type(num3))\n",
    "\n",
    "num = num1 + num2\n",
    "print(num)\n",
    "\n",
    "\n"
   ]
  },
  {
   "cell_type": "code",
   "execution_count": 21,
   "id": "942cbdd7",
   "metadata": {},
   "outputs": [
    {
     "name": "stdout",
     "output_type": "stream",
     "text": [
      "<class 'float'>\n",
      "<class 'float'>\n",
      "<class 'float'>\n"
     ]
    }
   ],
   "source": [
    "PI = 3.4754784774758454574584754585488374\n",
    "small_float = -0.001\n",
    "exp_float = 9.4e54754784774758454574584754585488374\n",
    "\n",
    "print (type(PI))\n",
    "print (type(small_float))\n",
    "print (type(exp_float))\n",
    "\n"
   ]
  },
  {
   "cell_type": "code",
   "execution_count": 23,
   "id": "5cc9fc25",
   "metadata": {},
   "outputs": [
    {
     "name": "stdout",
     "output_type": "stream",
     "text": [
      "<class 'str'>\n",
      "<class 'str'>\n",
      "<class 'str'>\n"
     ]
    }
   ],
   "source": [
    "greeting = \"Hello, Python!\"\n",
    "quote = 'Hay How are you.'\n",
    "multiline_string = \"\"\"This is a \n",
    "multiline string \"\"\"\n",
    "\n",
    "print(type(greeting))\n",
    "print(type(quote))\n",
    "print(type(multiline_string))\n"
   ]
  },
  {
   "cell_type": "code",
   "execution_count": 24,
   "id": "0fc2f1f5",
   "metadata": {},
   "outputs": [
    {
     "name": "stdout",
     "output_type": "stream",
     "text": [
      "H Hello\n"
     ]
    }
   ],
   "source": [
    "print(greeting[0], greeting[0:5])"
   ]
  },
  {
   "cell_type": "code",
   "execution_count": 25,
   "id": "40f68cd0",
   "metadata": {},
   "outputs": [
    {
     "name": "stdout",
     "output_type": "stream",
     "text": [
      "My Age is 32\n"
     ]
    }
   ],
   "source": [
    "age = 32\n",
    "\n",
    "print(f\"My Age is {age}\")"
   ]
  },
  {
   "cell_type": "code",
   "execution_count": 35,
   "id": "e2f147c9",
   "metadata": {},
   "outputs": [
    {
     "name": "stdout",
     "output_type": "stream",
     "text": [
      "<class 'list'>\n",
      "-1\n"
     ]
    }
   ],
   "source": [
    "# list_1 = [1,2,3,4,5,6,7,8,9,10]\n",
    "# list_1 = []\n",
    "list_1 = [1,\"2\", 3, 4.6 , 5 + 6 , 7*9 , 8 - 9 , 10]\n",
    "\n",
    "print(type(list_1))\n",
    "print(list_1[-2])"
   ]
  },
  {
   "cell_type": "code",
   "execution_count": 54,
   "id": "95c78a07",
   "metadata": {},
   "outputs": [
    {
     "name": "stdout",
     "output_type": "stream",
     "text": [
      "[0, 3, 4, 5, 6]\n"
     ]
    }
   ],
   "source": [
    "numbers = [1,2,3,4,5]\n",
    "numbers.append(6)\n",
    "numbers.insert(0,0)\n",
    "numbers.pop(1)\n",
    "numbers.remove(2)\n",
    "\n",
    "\n",
    "print(numbers)"
   ]
  },
  {
   "cell_type": "code",
   "execution_count": 67,
   "id": "a12a167b",
   "metadata": {},
   "outputs": [
    {
     "name": "stdout",
     "output_type": "stream",
     "text": [
      "<class 'tuple'>\n",
      "<class 'tuple'>\n",
      "<class 'tuple'>\n",
      "<class 'tuple'>\n",
      "21\n",
      "(22, 23, 24, 25)\n"
     ]
    }
   ],
   "source": [
    "empty_tuple = ()\n",
    "\n",
    "single_tuple = (21,)\n",
    "multiple_tuple  = (21, 22,23,24,25)\n",
    "mixed_tuple = (\"Basit\" , 21 , 21.344, True)\n",
    "\n",
    "\n",
    "print(type(empty_tuple))\n",
    "print(type(single_tuple))\n",
    "print(type(multiple_tuple))\n",
    "print(type(mixed_tuple))\n",
    "\n",
    "\n",
    "first_item = multiple_tuple[0]\n",
    "print(first_item)\n",
    "\n",
    "\n",
    "sub_tuple = multiple_tuple[1:]\n",
    "print(sub_tuple)"
   ]
  },
  {
   "cell_type": "code",
   "execution_count": 70,
   "id": "f7a4d222",
   "metadata": {},
   "outputs": [
    {
     "name": "stdout",
     "output_type": "stream",
     "text": [
      "'tuple' object does not support item assignment\n"
     ]
    }
   ],
   "source": [
    "try:\n",
    "    single_tuple[0] = 12\n",
    "except TypeError as e:\n",
    "    print(e)"
   ]
  },
  {
   "cell_type": "code",
   "execution_count": 71,
   "id": "307f34e2",
   "metadata": {},
   "outputs": [],
   "source": [
    "person_table = (\"Abdul Rafay Malik\", 25 , \"Class 12\") "
   ]
  },
  {
   "cell_type": "code",
   "execution_count": 72,
   "id": "b3aa1f71",
   "metadata": {},
   "outputs": [],
   "source": [
    "name, age, class_ = person_table"
   ]
  },
  {
   "cell_type": "code",
   "execution_count": 73,
   "id": "3e57396f",
   "metadata": {},
   "outputs": [
    {
     "name": "stdout",
     "output_type": "stream",
     "text": [
      "Abdul Rafay Malik\n"
     ]
    }
   ],
   "source": [
    "print(name)"
   ]
  },
  {
   "cell_type": "code",
   "execution_count": 74,
   "id": "97ef6660",
   "metadata": {},
   "outputs": [],
   "source": [
    "class_ = 4"
   ]
  },
  {
   "cell_type": "code",
   "execution_count": 75,
   "id": "6a9d46c6",
   "metadata": {},
   "outputs": [
    {
     "name": "stdout",
     "output_type": "stream",
     "text": [
      "('Abdul Rafay Malik', 25, 'Class 12')\n"
     ]
    }
   ],
   "source": [
    "print(person_table)"
   ]
  },
  {
   "cell_type": "code",
   "execution_count": 87,
   "id": "bf401cc4",
   "metadata": {},
   "outputs": [
    {
     "name": "stdout",
     "output_type": "stream",
     "text": [
      "<class 'dict'>\n"
     ]
    }
   ],
   "source": [
    "empty_dict = {\"name\": 'rafay'}\n",
    "person_disct = {\"Name\" : \"Malik Abdul Rafay\", \"Class\": 12, \"Age\": 12}\n",
    "person2_dict = {\"Rafay\", \"malik\"}\n",
    "\n",
    "print(type(empty_dict))"
   ]
  },
  {
   "cell_type": "code",
   "execution_count": 99,
   "id": "12f309d6",
   "metadata": {},
   "outputs": [
    {
     "name": "stdout",
     "output_type": "stream",
     "text": [
      "<class 'dict'>\n"
     ]
    }
   ],
   "source": [
    "another_dict = dict(nameh=\"Rafay Malik\", age=12)\n",
    "\n",
    "print(type(another_dict))"
   ]
  },
  {
   "cell_type": "code",
   "execution_count": null,
   "id": "aa7f0c7b",
   "metadata": {},
   "outputs": [],
   "source": []
  },
  {
   "cell_type": "code",
   "execution_count": 101,
   "id": "6dfabb04",
   "metadata": {},
   "outputs": [
    {
     "name": "stdout",
     "output_type": "stream",
     "text": [
      "None\n"
     ]
    }
   ],
   "source": [
    "# print(another_dict['name'])\n",
    "print(another_dict.get('name'))\n"
   ]
  },
  {
   "cell_type": "code",
   "execution_count": 109,
   "id": "ebc7fa4d",
   "metadata": {},
   "outputs": [
    {
     "name": "stdout",
     "output_type": "stream",
     "text": [
      "<class 'set'>\n",
      "<class 'set'>\n"
     ]
    }
   ],
   "source": [
    "empty_set = set()\n",
    "print(type(empty_set))\n",
    "\n",
    "\n",
    "number_set = {1,2,3,4,5}\n",
    "print(type(number_set))"
   ]
  },
  {
   "cell_type": "code",
   "execution_count": null,
   "id": "985a9c96",
   "metadata": {},
   "outputs": [],
   "source": []
  }
 ],
 "metadata": {
  "kernelspec": {
   "display_name": "pythonLearning",
   "language": "python",
   "name": "python3"
  },
  "language_info": {
   "codemirror_mode": {
    "name": "ipython",
    "version": 3
   },
   "file_extension": ".py",
   "mimetype": "text/x-python",
   "name": "python",
   "nbconvert_exporter": "python",
   "pygments_lexer": "ipython3",
   "version": "3.11.13"
  }
 },
 "nbformat": 4,
 "nbformat_minor": 5
}
